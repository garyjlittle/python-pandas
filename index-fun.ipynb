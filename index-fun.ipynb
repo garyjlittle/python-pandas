{
 "cells": [
  {
   "cell_type": "markdown",
   "metadata": {},
   "source": [
    "# Index fun"
   ]
  },
  {
   "attachments": {},
   "cell_type": "markdown",
   "metadata": {},
   "source": [
    "Taken from [sparkbyexamples.com](https://sparkbyexamples.com/pandas/pandas-index-explained-with-examples/)"
   ]
  },
  {
   "cell_type": "code",
   "execution_count": 1,
   "metadata": {},
   "outputs": [],
   "source": [
    "import pandas as pd"
   ]
  },
  {
   "cell_type": "code",
   "execution_count": 3,
   "metadata": {},
   "outputs": [
    {
     "name": "stdout",
     "output_type": "stream",
     "text": [
      "0    A\n",
      "1    B\n",
      "2    C\n",
      "3    D\n",
      "4    E\n",
      "dtype: object\n"
     ]
    }
   ],
   "source": [
    "s=pd.Series(['A','B','C','D','E'])\n",
    "print(s)"
   ]
  },
  {
   "cell_type": "code",
   "execution_count": 6,
   "metadata": {},
   "outputs": [],
   "source": [
    "idx=['idx1','idx2','idx3','idx4','idx5']\n",
    "s=pd.Series(['A','B','C','D','E'],index=idx)\n"
   ]
  },
  {
   "cell_type": "code",
   "execution_count": 7,
   "metadata": {},
   "outputs": [
    {
     "name": "stdout",
     "output_type": "stream",
     "text": [
      "idx1    A\n",
      "idx2    B\n",
      "idx3    C\n",
      "idx4    D\n",
      "idx5    E\n",
      "dtype: object\n"
     ]
    }
   ],
   "source": [
    "print(s)"
   ]
  },
  {
   "cell_type": "code",
   "execution_count": 5,
   "metadata": {},
   "outputs": [
    {
     "name": "stdout",
     "output_type": "stream",
     "text": [
      "        0     1        2\n",
      "0   Spark  2000  30 Days\n",
      "1  pandas  2000  40 Days\n",
      "2  Hadoop  2600  35 Days\n"
     ]
    }
   ],
   "source": [
    "technologies = [[\"Spark\",2000, \"30 Days\"],\n",
    "                [\"pandas\", 2000, \"40 Days\"],\n",
    "                [\"Hadoop\",2600, \"35 Days\"]]\n",
    "df=pd.DataFrame(technologies)\n",
    "print(df)\n"
   ]
  },
  {
   "cell_type": "code",
   "execution_count": 7,
   "metadata": {},
   "outputs": [
    {
     "name": "stdout",
     "output_type": "stream",
     "text": [
      "  Courses   Fee Duration\n",
      "a   Spark  2000  30 Days\n",
      "b  pandas  2000  40 Days\n",
      "c  Hadoop  2600  35 Days\n"
     ]
    }
   ],
   "source": [
    "column_names=[\"Courses\",\"Fee\",\"Duration\"]\n",
    "row_label=[\"a\",\"b\",\"c\"]\n",
    "df=pd.DataFrame(technologies,columns=column_names, index=row_label)\n",
    "print(df)"
   ]
  },
  {
   "cell_type": "code",
   "execution_count": 8,
   "metadata": {},
   "outputs": [
    {
     "name": "stdout",
     "output_type": "stream",
     "text": [
      "Index(['a', 'b', 'c'], dtype='object')\n"
     ]
    }
   ],
   "source": [
    "print(df.index)"
   ]
  },
  {
   "cell_type": "code",
   "execution_count": 10,
   "metadata": {},
   "outputs": [
    {
     "name": "stdout",
     "output_type": "stream",
     "text": [
      "['a' 'b' 'c']\n"
     ]
    }
   ],
   "source": [
    "print(df.index.values)"
   ]
  },
  {
   "cell_type": "code",
   "execution_count": 11,
   "metadata": {},
   "outputs": [
    {
     "name": "stdout",
     "output_type": "stream",
     "text": [
      "Courses      Hadoop\n",
      "Fee            2600\n",
      "Duration    35 Days\n",
      "Name: c, dtype: object\n"
     ]
    }
   ],
   "source": [
    "print(df.iloc[2])"
   ]
  },
  {
   "cell_type": "code",
   "execution_count": 12,
   "metadata": {},
   "outputs": [
    {
     "data": {
      "text/html": [
       "<div>\n",
       "<style scoped>\n",
       "    .dataframe tbody tr th:only-of-type {\n",
       "        vertical-align: middle;\n",
       "    }\n",
       "\n",
       "    .dataframe tbody tr th {\n",
       "        vertical-align: top;\n",
       "    }\n",
       "\n",
       "    .dataframe thead th {\n",
       "        text-align: right;\n",
       "    }\n",
       "</style>\n",
       "<table border=\"1\" class=\"dataframe\">\n",
       "  <thead>\n",
       "    <tr style=\"text-align: right;\">\n",
       "      <th></th>\n",
       "      <th>Courses</th>\n",
       "      <th>Fee</th>\n",
       "      <th>Duration</th>\n",
       "    </tr>\n",
       "  </thead>\n",
       "  <tbody>\n",
       "    <tr>\n",
       "      <th>a</th>\n",
       "      <td>Spark</td>\n",
       "      <td>2000</td>\n",
       "      <td>30 Days</td>\n",
       "    </tr>\n",
       "    <tr>\n",
       "      <th>b</th>\n",
       "      <td>pandas</td>\n",
       "      <td>2000</td>\n",
       "      <td>40 Days</td>\n",
       "    </tr>\n",
       "    <tr>\n",
       "      <th>c</th>\n",
       "      <td>Hadoop</td>\n",
       "      <td>2600</td>\n",
       "      <td>35 Days</td>\n",
       "    </tr>\n",
       "  </tbody>\n",
       "</table>\n",
       "</div>"
      ],
      "text/plain": [
       "  Courses   Fee Duration\n",
       "a   Spark  2000  30 Days\n",
       "b  pandas  2000  40 Days\n",
       "c  Hadoop  2600  35 Days"
      ]
     },
     "execution_count": 12,
     "metadata": {},
     "output_type": "execute_result"
    }
   ],
   "source": [
    "df"
   ]
  },
  {
   "cell_type": "code",
   "execution_count": 13,
   "metadata": {},
   "outputs": [
    {
     "name": "stdout",
     "output_type": "stream",
     "text": [
      "  index Courses   Fee Duration\n",
      "0     a   Spark  2000  30 Days\n",
      "1     b  pandas  2000  40 Days\n",
      "2     c  Hadoop  2600  35 Days\n"
     ]
    }
   ],
   "source": [
    "df2=df.reset_index()\n",
    "print(df2)"
   ]
  },
  {
   "cell_type": "code",
   "execution_count": 14,
   "metadata": {},
   "outputs": [
    {
     "name": "stdout",
     "output_type": "stream",
     "text": [
      "          Fee Duration\n",
      "Courses               \n",
      "Spark    2000  30 Days\n",
      "pandas   2000  40 Days\n",
      "Hadoop   2600  35 Days\n"
     ]
    }
   ],
   "source": [
    "df2=df.set_index('Courses')\n",
    "print(df2)"
   ]
  },
  {
   "cell_type": "code",
   "execution_count": null,
   "metadata": {},
   "outputs": [],
   "source": []
  }
 ],
 "metadata": {
  "kernelspec": {
   "display_name": "Python 3",
   "language": "python",
   "name": "python3"
  },
  "language_info": {
   "codemirror_mode": {
    "name": "ipython",
    "version": 3
   },
   "file_extension": ".py",
   "mimetype": "text/x-python",
   "name": "python",
   "nbconvert_exporter": "python",
   "pygments_lexer": "ipython3",
   "version": "3.9.12"
  },
  "orig_nbformat": 4
 },
 "nbformat": 4,
 "nbformat_minor": 2
}
